{
 "cells": [
  {
   "cell_type": "code",
   "execution_count": 1,
   "metadata": {},
   "outputs": [],
   "source": [
    "import numpy as np\n",
    "import pandas as pd\n",
    "\n",
    "from sklearn.model_selection import train_test_split\n",
    "from sklearn.model_selection import KFold\n",
    "from sklearn.metrics import roc_auc_score\n",
    "%matplotlib inline\n",
    "from sklearn.linear_model import LogisticRegression\n",
    "from sklearn.model_selection import StratifiedShuffleSplit"
   ]
  },
  {
   "cell_type": "code",
   "execution_count": 2,
   "metadata": {},
   "outputs": [],
   "source": [
    "ctrain=pd.read_csv(r'D:\\Python new\\PYTHON\\PROJECT\\PROJECT 2\\carvan_train.csv')"
   ]
  },
  {
   "cell_type": "code",
   "execution_count": 3,
   "metadata": {},
   "outputs": [],
   "source": [
    "ctest=pd.read_csv(r'D:\\Python new\\PYTHON\\PROJECT\\PROJECT 2\\carvan_test.csv')"
   ]
  },
  {
   "cell_type": "code",
   "execution_count": 4,
   "metadata": {},
   "outputs": [],
   "source": [
    "ctrain[\"data\"]='train'\n",
    "ctest['data']='test'"
   ]
  },
  {
   "cell_type": "code",
   "execution_count": 5,
   "metadata": {},
   "outputs": [],
   "source": [
    "ctest['V86']=None"
   ]
  },
  {
   "cell_type": "code",
   "execution_count": 6,
   "metadata": {},
   "outputs": [
    {
     "data": {
      "text/html": [
       "<div>\n",
       "<style scoped>\n",
       "    .dataframe tbody tr th:only-of-type {\n",
       "        vertical-align: middle;\n",
       "    }\n",
       "\n",
       "    .dataframe tbody tr th {\n",
       "        vertical-align: top;\n",
       "    }\n",
       "\n",
       "    .dataframe thead th {\n",
       "        text-align: right;\n",
       "    }\n",
       "</style>\n",
       "<table border=\"1\" class=\"dataframe\">\n",
       "  <thead>\n",
       "    <tr style=\"text-align: right;\">\n",
       "      <th></th>\n",
       "      <th>V1</th>\n",
       "      <th>V2</th>\n",
       "      <th>V3</th>\n",
       "      <th>V4</th>\n",
       "      <th>V5</th>\n",
       "      <th>V6</th>\n",
       "      <th>V7</th>\n",
       "      <th>V8</th>\n",
       "      <th>V9</th>\n",
       "      <th>V10</th>\n",
       "      <th>...</th>\n",
       "      <th>V78</th>\n",
       "      <th>V79</th>\n",
       "      <th>V80</th>\n",
       "      <th>V81</th>\n",
       "      <th>V82</th>\n",
       "      <th>V83</th>\n",
       "      <th>V84</th>\n",
       "      <th>V85</th>\n",
       "      <th>V86</th>\n",
       "      <th>data</th>\n",
       "    </tr>\n",
       "  </thead>\n",
       "  <tbody>\n",
       "    <tr>\n",
       "      <th>0</th>\n",
       "      <td>33</td>\n",
       "      <td>1</td>\n",
       "      <td>3</td>\n",
       "      <td>2</td>\n",
       "      <td>8</td>\n",
       "      <td>0</td>\n",
       "      <td>5</td>\n",
       "      <td>1</td>\n",
       "      <td>3</td>\n",
       "      <td>7</td>\n",
       "      <td>...</td>\n",
       "      <td>0</td>\n",
       "      <td>0</td>\n",
       "      <td>1</td>\n",
       "      <td>0</td>\n",
       "      <td>0</td>\n",
       "      <td>0</td>\n",
       "      <td>0</td>\n",
       "      <td>0</td>\n",
       "      <td>0</td>\n",
       "      <td>train</td>\n",
       "    </tr>\n",
       "    <tr>\n",
       "      <th>1</th>\n",
       "      <td>37</td>\n",
       "      <td>1</td>\n",
       "      <td>2</td>\n",
       "      <td>2</td>\n",
       "      <td>8</td>\n",
       "      <td>1</td>\n",
       "      <td>4</td>\n",
       "      <td>1</td>\n",
       "      <td>4</td>\n",
       "      <td>6</td>\n",
       "      <td>...</td>\n",
       "      <td>0</td>\n",
       "      <td>0</td>\n",
       "      <td>1</td>\n",
       "      <td>0</td>\n",
       "      <td>0</td>\n",
       "      <td>0</td>\n",
       "      <td>0</td>\n",
       "      <td>0</td>\n",
       "      <td>0</td>\n",
       "      <td>train</td>\n",
       "    </tr>\n",
       "    <tr>\n",
       "      <th>2</th>\n",
       "      <td>37</td>\n",
       "      <td>1</td>\n",
       "      <td>2</td>\n",
       "      <td>2</td>\n",
       "      <td>8</td>\n",
       "      <td>0</td>\n",
       "      <td>4</td>\n",
       "      <td>2</td>\n",
       "      <td>4</td>\n",
       "      <td>3</td>\n",
       "      <td>...</td>\n",
       "      <td>0</td>\n",
       "      <td>0</td>\n",
       "      <td>1</td>\n",
       "      <td>0</td>\n",
       "      <td>0</td>\n",
       "      <td>0</td>\n",
       "      <td>0</td>\n",
       "      <td>0</td>\n",
       "      <td>0</td>\n",
       "      <td>train</td>\n",
       "    </tr>\n",
       "    <tr>\n",
       "      <th>3</th>\n",
       "      <td>9</td>\n",
       "      <td>1</td>\n",
       "      <td>3</td>\n",
       "      <td>3</td>\n",
       "      <td>3</td>\n",
       "      <td>2</td>\n",
       "      <td>3</td>\n",
       "      <td>2</td>\n",
       "      <td>4</td>\n",
       "      <td>5</td>\n",
       "      <td>...</td>\n",
       "      <td>0</td>\n",
       "      <td>0</td>\n",
       "      <td>1</td>\n",
       "      <td>0</td>\n",
       "      <td>0</td>\n",
       "      <td>0</td>\n",
       "      <td>0</td>\n",
       "      <td>0</td>\n",
       "      <td>0</td>\n",
       "      <td>train</td>\n",
       "    </tr>\n",
       "    <tr>\n",
       "      <th>4</th>\n",
       "      <td>40</td>\n",
       "      <td>1</td>\n",
       "      <td>4</td>\n",
       "      <td>2</td>\n",
       "      <td>10</td>\n",
       "      <td>1</td>\n",
       "      <td>4</td>\n",
       "      <td>1</td>\n",
       "      <td>4</td>\n",
       "      <td>7</td>\n",
       "      <td>...</td>\n",
       "      <td>0</td>\n",
       "      <td>0</td>\n",
       "      <td>1</td>\n",
       "      <td>0</td>\n",
       "      <td>0</td>\n",
       "      <td>0</td>\n",
       "      <td>0</td>\n",
       "      <td>0</td>\n",
       "      <td>0</td>\n",
       "      <td>train</td>\n",
       "    </tr>\n",
       "    <tr>\n",
       "      <th>...</th>\n",
       "      <td>...</td>\n",
       "      <td>...</td>\n",
       "      <td>...</td>\n",
       "      <td>...</td>\n",
       "      <td>...</td>\n",
       "      <td>...</td>\n",
       "      <td>...</td>\n",
       "      <td>...</td>\n",
       "      <td>...</td>\n",
       "      <td>...</td>\n",
       "      <td>...</td>\n",
       "      <td>...</td>\n",
       "      <td>...</td>\n",
       "      <td>...</td>\n",
       "      <td>...</td>\n",
       "      <td>...</td>\n",
       "      <td>...</td>\n",
       "      <td>...</td>\n",
       "      <td>...</td>\n",
       "      <td>...</td>\n",
       "      <td>...</td>\n",
       "    </tr>\n",
       "    <tr>\n",
       "      <th>5817</th>\n",
       "      <td>36</td>\n",
       "      <td>1</td>\n",
       "      <td>1</td>\n",
       "      <td>2</td>\n",
       "      <td>8</td>\n",
       "      <td>0</td>\n",
       "      <td>6</td>\n",
       "      <td>1</td>\n",
       "      <td>2</td>\n",
       "      <td>1</td>\n",
       "      <td>...</td>\n",
       "      <td>0</td>\n",
       "      <td>0</td>\n",
       "      <td>1</td>\n",
       "      <td>0</td>\n",
       "      <td>0</td>\n",
       "      <td>0</td>\n",
       "      <td>0</td>\n",
       "      <td>0</td>\n",
       "      <td>0</td>\n",
       "      <td>train</td>\n",
       "    </tr>\n",
       "    <tr>\n",
       "      <th>5818</th>\n",
       "      <td>35</td>\n",
       "      <td>1</td>\n",
       "      <td>4</td>\n",
       "      <td>4</td>\n",
       "      <td>8</td>\n",
       "      <td>1</td>\n",
       "      <td>4</td>\n",
       "      <td>1</td>\n",
       "      <td>4</td>\n",
       "      <td>6</td>\n",
       "      <td>...</td>\n",
       "      <td>0</td>\n",
       "      <td>0</td>\n",
       "      <td>1</td>\n",
       "      <td>0</td>\n",
       "      <td>0</td>\n",
       "      <td>0</td>\n",
       "      <td>0</td>\n",
       "      <td>0</td>\n",
       "      <td>0</td>\n",
       "      <td>train</td>\n",
       "    </tr>\n",
       "    <tr>\n",
       "      <th>5819</th>\n",
       "      <td>33</td>\n",
       "      <td>1</td>\n",
       "      <td>3</td>\n",
       "      <td>4</td>\n",
       "      <td>8</td>\n",
       "      <td>0</td>\n",
       "      <td>6</td>\n",
       "      <td>0</td>\n",
       "      <td>3</td>\n",
       "      <td>5</td>\n",
       "      <td>...</td>\n",
       "      <td>0</td>\n",
       "      <td>0</td>\n",
       "      <td>1</td>\n",
       "      <td>0</td>\n",
       "      <td>0</td>\n",
       "      <td>0</td>\n",
       "      <td>0</td>\n",
       "      <td>0</td>\n",
       "      <td>1</td>\n",
       "      <td>train</td>\n",
       "    </tr>\n",
       "    <tr>\n",
       "      <th>5820</th>\n",
       "      <td>34</td>\n",
       "      <td>1</td>\n",
       "      <td>3</td>\n",
       "      <td>2</td>\n",
       "      <td>8</td>\n",
       "      <td>0</td>\n",
       "      <td>7</td>\n",
       "      <td>0</td>\n",
       "      <td>2</td>\n",
       "      <td>7</td>\n",
       "      <td>...</td>\n",
       "      <td>0</td>\n",
       "      <td>0</td>\n",
       "      <td>0</td>\n",
       "      <td>0</td>\n",
       "      <td>0</td>\n",
       "      <td>0</td>\n",
       "      <td>0</td>\n",
       "      <td>0</td>\n",
       "      <td>0</td>\n",
       "      <td>train</td>\n",
       "    </tr>\n",
       "    <tr>\n",
       "      <th>5821</th>\n",
       "      <td>33</td>\n",
       "      <td>1</td>\n",
       "      <td>3</td>\n",
       "      <td>3</td>\n",
       "      <td>8</td>\n",
       "      <td>0</td>\n",
       "      <td>6</td>\n",
       "      <td>1</td>\n",
       "      <td>2</td>\n",
       "      <td>7</td>\n",
       "      <td>...</td>\n",
       "      <td>0</td>\n",
       "      <td>0</td>\n",
       "      <td>0</td>\n",
       "      <td>0</td>\n",
       "      <td>0</td>\n",
       "      <td>0</td>\n",
       "      <td>0</td>\n",
       "      <td>0</td>\n",
       "      <td>0</td>\n",
       "      <td>train</td>\n",
       "    </tr>\n",
       "  </tbody>\n",
       "</table>\n",
       "<p>5822 rows × 87 columns</p>\n",
       "</div>"
      ],
      "text/plain": [
       "      V1  V2  V3  V4  V5  V6  V7  V8  V9  V10  ...  V78  V79  V80  V81  V82  \\\n",
       "0     33   1   3   2   8   0   5   1   3    7  ...    0    0    1    0    0   \n",
       "1     37   1   2   2   8   1   4   1   4    6  ...    0    0    1    0    0   \n",
       "2     37   1   2   2   8   0   4   2   4    3  ...    0    0    1    0    0   \n",
       "3      9   1   3   3   3   2   3   2   4    5  ...    0    0    1    0    0   \n",
       "4     40   1   4   2  10   1   4   1   4    7  ...    0    0    1    0    0   \n",
       "...   ..  ..  ..  ..  ..  ..  ..  ..  ..  ...  ...  ...  ...  ...  ...  ...   \n",
       "5817  36   1   1   2   8   0   6   1   2    1  ...    0    0    1    0    0   \n",
       "5818  35   1   4   4   8   1   4   1   4    6  ...    0    0    1    0    0   \n",
       "5819  33   1   3   4   8   0   6   0   3    5  ...    0    0    1    0    0   \n",
       "5820  34   1   3   2   8   0   7   0   2    7  ...    0    0    0    0    0   \n",
       "5821  33   1   3   3   8   0   6   1   2    7  ...    0    0    0    0    0   \n",
       "\n",
       "      V83  V84  V85  V86   data  \n",
       "0       0    0    0    0  train  \n",
       "1       0    0    0    0  train  \n",
       "2       0    0    0    0  train  \n",
       "3       0    0    0    0  train  \n",
       "4       0    0    0    0  train  \n",
       "...   ...  ...  ...  ...    ...  \n",
       "5817    0    0    0    0  train  \n",
       "5818    0    0    0    0  train  \n",
       "5819    0    0    0    1  train  \n",
       "5820    0    0    0    0  train  \n",
       "5821    0    0    0    0  train  \n",
       "\n",
       "[5822 rows x 87 columns]"
      ]
     },
     "execution_count": 6,
     "metadata": {},
     "output_type": "execute_result"
    }
   ],
   "source": [
    "ctrain"
   ]
  },
  {
   "cell_type": "code",
   "execution_count": 7,
   "metadata": {},
   "outputs": [
    {
     "data": {
      "text/plain": [
       "(5822, 87)"
      ]
     },
     "execution_count": 7,
     "metadata": {},
     "output_type": "execute_result"
    }
   ],
   "source": [
    "ctrain.shape"
   ]
  },
  {
   "cell_type": "code",
   "execution_count": 8,
   "metadata": {},
   "outputs": [],
   "source": [
    "c=pd.concat([ctrain,ctest],0)"
   ]
  },
  {
   "cell_type": "code",
   "execution_count": 9,
   "metadata": {},
   "outputs": [
    {
     "data": {
      "text/plain": [
       "Index(['V1', 'V2', 'V3', 'V4', 'V5', 'V6', 'V7', 'V8', 'V9', 'V10', 'V11',\n",
       "       'V12', 'V13', 'V14', 'V15', 'V16', 'V17', 'V18', 'V19', 'V20', 'V21',\n",
       "       'V22', 'V23', 'V24', 'V25', 'V26', 'V27', 'V28', 'V29', 'V30', 'V31',\n",
       "       'V32', 'V33', 'V34', 'V35', 'V36', 'V37', 'V38', 'V39', 'V40', 'V41',\n",
       "       'V42', 'V43', 'V44', 'V45', 'V46', 'V47', 'V48', 'V49', 'V50', 'V51',\n",
       "       'V52', 'V53', 'V54', 'V55', 'V56', 'V57', 'V58', 'V59', 'V60', 'V61',\n",
       "       'V62', 'V63', 'V64', 'V65', 'V66', 'V67', 'V68', 'V69', 'V70', 'V71',\n",
       "       'V72', 'V73', 'V74', 'V75', 'V76', 'V77', 'V78', 'V79', 'V80', 'V81',\n",
       "       'V82', 'V83', 'V84', 'V85', 'V86', 'data'],\n",
       "      dtype='object')"
      ]
     },
     "execution_count": 9,
     "metadata": {},
     "output_type": "execute_result"
    }
   ],
   "source": [
    "c.columns"
   ]
  },
  {
   "cell_type": "code",
   "execution_count": 10,
   "metadata": {},
   "outputs": [
    {
     "data": {
      "text/plain": [
       "(9822, 87)"
      ]
     },
     "execution_count": 10,
     "metadata": {},
     "output_type": "execute_result"
    }
   ],
   "source": [
    "c.shape"
   ]
  },
  {
   "cell_type": "code",
   "execution_count": 11,
   "metadata": {},
   "outputs": [],
   "source": [
    "#pd.options.display.max_columns=90"
   ]
  },
  {
   "cell_type": "code",
   "execution_count": 12,
   "metadata": {},
   "outputs": [],
   "source": [
    "#pd.options.display.min_rows=110"
   ]
  },
  {
   "cell_type": "code",
   "execution_count": 13,
   "metadata": {},
   "outputs": [],
   "source": [
    "#pd.options.display.max_rows=110"
   ]
  },
  {
   "cell_type": "code",
   "execution_count": 14,
   "metadata": {},
   "outputs": [
    {
     "data": {
      "text/plain": [
       "V1       int64\n",
       "V2       int64\n",
       "V3       int64\n",
       "V4       int64\n",
       "V5       int64\n",
       "         ...  \n",
       "V83      int64\n",
       "V84      int64\n",
       "V85      int64\n",
       "V86     object\n",
       "data    object\n",
       "Length: 87, dtype: object"
      ]
     },
     "execution_count": 14,
     "metadata": {},
     "output_type": "execute_result"
    }
   ],
   "source": [
    "c.dtypes"
   ]
  },
  {
   "cell_type": "code",
   "execution_count": 15,
   "metadata": {},
   "outputs": [
    {
     "data": {
      "text/plain": [
       "0    5474\n",
       "1     348\n",
       "Name: V86, dtype: int64"
      ]
     },
     "execution_count": 15,
     "metadata": {},
     "output_type": "execute_result"
    }
   ],
   "source": [
    "c[\"V86\"].value_counts()"
   ]
  },
  {
   "cell_type": "code",
   "execution_count": 16,
   "metadata": {},
   "outputs": [
    {
     "data": {
      "text/plain": [
       "Index(['V1', 'V2', 'V3', 'V4', 'V5', 'V6', 'V7', 'V8', 'V9', 'V10', 'V11',\n",
       "       'V12', 'V13', 'V14', 'V15', 'V16', 'V17', 'V18', 'V19', 'V20', 'V21',\n",
       "       'V22', 'V23', 'V24', 'V25', 'V26', 'V27', 'V28', 'V29', 'V30', 'V31',\n",
       "       'V32', 'V33', 'V34', 'V35', 'V36', 'V37', 'V38', 'V39', 'V40', 'V41',\n",
       "       'V42', 'V43', 'V44', 'V45', 'V46', 'V47', 'V48', 'V49', 'V50', 'V51',\n",
       "       'V52', 'V53', 'V54', 'V55', 'V56', 'V57', 'V58', 'V59', 'V60', 'V61',\n",
       "       'V62', 'V63', 'V64', 'V65', 'V66', 'V67', 'V68', 'V69', 'V70', 'V71',\n",
       "       'V72', 'V73', 'V74', 'V75', 'V76', 'V77', 'V78', 'V79', 'V80', 'V81',\n",
       "       'V82', 'V83', 'V84', 'V85', 'V86', 'data'],\n",
       "      dtype='object')"
      ]
     },
     "execution_count": 16,
     "metadata": {},
     "output_type": "execute_result"
    }
   ],
   "source": [
    "c.columns"
   ]
  },
  {
   "cell_type": "code",
   "execution_count": 17,
   "metadata": {},
   "outputs": [
    {
     "data": {
      "text/plain": [
       "[33    1401\n",
       " 38     569\n",
       " 8      546\n",
       " 39     542\n",
       " 9      460\n",
       " 3      433\n",
       " 23     376\n",
       " 36     373\n",
       " 35     362\n",
       " 41     355\n",
       " 34     325\n",
       " 24     324\n",
       " 31     318\n",
       " 13     302\n",
       " 11     286\n",
       " 10     271\n",
       " 32     234\n",
       " 37     233\n",
       " 1      218\n",
       " 6      209\n",
       " 12     194\n",
       " 30     190\n",
       " 22     169\n",
       " 2      148\n",
       " 29     139\n",
       " 40     137\n",
       " 25     129\n",
       " 4       90\n",
       " 26      79\n",
       " 27      77\n",
       " 7       72\n",
       " 5       70\n",
       " 20      42\n",
       " 28      41\n",
       " 21      29\n",
       " 18      27\n",
       " 16      25\n",
       " 17      13\n",
       " 15       7\n",
       " 19       7\n",
       " Name: V1, dtype: int64, 1     8915\n",
       " 2      821\n",
       " 3       64\n",
       " 7        8\n",
       " 4        4\n",
       " 6        3\n",
       " 5        3\n",
       " 10       2\n",
       " 8        2\n",
       " Name: V2, dtype: int64, 3    4513\n",
       " 2    3616\n",
       " 4    1132\n",
       " 1     452\n",
       " 5     106\n",
       " 6       3\n",
       " Name: V3, dtype: int64, 3    5154\n",
       " 2    2409\n",
       " 4    1777\n",
       " 5     329\n",
       " 1     104\n",
       " 6      49\n",
       " Name: V4, dtype: int64, 8     2694\n",
       " 3     1513\n",
       " 9     1111\n",
       " 1      959\n",
       " 5      940\n",
       " 7      881\n",
       " 2      827\n",
       " 10     492\n",
       " 6      326\n",
       " 4       79\n",
       " Name: V5, dtype: int64, 0    5420\n",
       " 1    2744\n",
       " 2    1213\n",
       " 3     243\n",
       " 4     123\n",
       " 5      30\n",
       " 6      25\n",
       " 7      11\n",
       " 9      10\n",
       " 8       3\n",
       " Name: V6, dtype: int64, 4    2666\n",
       " 5    2533\n",
       " 6    1180\n",
       " 3    1022\n",
       " 7     995\n",
       " 2     666\n",
       " 9     290\n",
       " 1     225\n",
       " 0     127\n",
       " 8     118\n",
       " Name: V7, dtype: int64, 0    3460\n",
       " 1    3391\n",
       " 2    2294\n",
       " 3     415\n",
       " 4     220\n",
       " 5      42\n",
       " Name: V8, dtype: int64, 3    2476\n",
       " 4    2245\n",
       " 2    1778\n",
       " 5    1572\n",
       " 0     773\n",
       " 6     394\n",
       " 1     378\n",
       " 7     179\n",
       " 9      14\n",
       " 8      13\n",
       " Name: V9, dtype: int64, 7    2800\n",
       " 6    2015\n",
       " 5    1628\n",
       " 9    1345\n",
       " 8     603\n",
       " 4     550\n",
       " 3     402\n",
       " 2     252\n",
       " 1     119\n",
       " 0     108\n",
       " Name: V10, dtype: int64, 0    4185\n",
       " 1    3402\n",
       " 2    1790\n",
       " 3     260\n",
       " 4     133\n",
       " 5      32\n",
       " 6      18\n",
       " 7       2\n",
       " Name: V11, dtype: int64, 2    2944\n",
       " 0    1981\n",
       " 3    1965\n",
       " 4    1140\n",
       " 1     900\n",
       " 5     421\n",
       " 6     299\n",
       " 7     100\n",
       " 9      41\n",
       " 8      31\n",
       " Name: V12, dtype: int64, 0    2916\n",
       " 2    2143\n",
       " 1    1619\n",
       " 3    1439\n",
       " 4     890\n",
       " 5     416\n",
       " 6     222\n",
       " 7     107\n",
       " 8      36\n",
       " 9      34\n",
       " Name: V13, dtype: int64, 3    2517\n",
       " 4    2493\n",
       " 2    1798\n",
       " 5    1043\n",
       " 0     613\n",
       " 1     608\n",
       " 6     516\n",
       " 7     160\n",
       " 9      47\n",
       " 8      27\n",
       " Name: V14, dtype: int64, 4    1983\n",
       " 5    1869\n",
       " 3    1596\n",
       " 6    1322\n",
       " 2    1096\n",
       " 7     601\n",
       " 1     475\n",
       " 8     341\n",
       " 9     296\n",
       " 0     243\n",
       " Name: V15, dtype: int64, 0    3621\n",
       " 1    2176\n",
       " 2    1921\n",
       " 3     927\n",
       " 4     577\n",
       " 5     338\n",
       " 6     123\n",
       " 7      83\n",
       " 8      39\n",
       " 9      17\n",
       " Name: V16, dtype: int64, 4    2394\n",
       " 3    2332\n",
       " 2    1648\n",
       " 5    1227\n",
       " 0     711\n",
       " 1     624\n",
       " 6     526\n",
       " 7     243\n",
       " 9      64\n",
       " 8      53\n",
       " Name: V17, dtype: int64, 5    1740\n",
       " 6    1472\n",
       " 4    1448\n",
       " 3    1128\n",
       " 2    1099\n",
       " 7    1090\n",
       " 9     531\n",
       " 0     494\n",
       " 8     424\n",
       " 1     396\n",
       " Name: V18, dtype: int64, 0    2576\n",
       " 2    2278\n",
       " 1    2119\n",
       " 3    1282\n",
       " 4     641\n",
       " 5     415\n",
       " 6     248\n",
       " 7     159\n",
       " 9      57\n",
       " 8      47\n",
       " Name: V19, dtype: int64, 0    7031\n",
       " 1    2009\n",
       " 2     600\n",
       " 5      94\n",
       " 3      70\n",
       " 4      18\n",
       " Name: V20, dtype: int64, 0    6985\n",
       " 1    1462\n",
       " 2     815\n",
       " 3     256\n",
       " 4     144\n",
       " 5     108\n",
       " 6      21\n",
       " 8      15\n",
       " 9      13\n",
       " 7       3\n",
       " Name: V21, dtype: int64, 2    2508\n",
       " 3    2348\n",
       " 4    1573\n",
       " 0    1164\n",
       " 5     726\n",
       " 1     699\n",
       " 6     348\n",
       " 7     295\n",
       " 9     137\n",
       " 8      24\n",
       " Name: V22, dtype: int64, 2    2327\n",
       " 0    1995\n",
       " 3    1967\n",
       " 1    1523\n",
       " 4    1006\n",
       " 5     524\n",
       " 6     299\n",
       " 7     119\n",
       " 8      38\n",
       " 9      24\n",
       " Name: V23, dtype: int64, 2    2460\n",
       " 3    1817\n",
       " 1    1685\n",
       " 0    1636\n",
       " 4    1289\n",
       " 5     564\n",
       " 6     216\n",
       " 7     101\n",
       " 9      37\n",
       " 8      17\n",
       " Name: V24, dtype: int64, 0    2871\n",
       " 1    2626\n",
       " 2    2056\n",
       " 3    1168\n",
       " 4     452\n",
       " 5     228\n",
       " 6     152\n",
       " 7     147\n",
       " 9     106\n",
       " 8      16\n",
       " Name: V25, dtype: int64, 2    3009\n",
       " 1    2549\n",
       " 0    2275\n",
       " 3    1300\n",
       " 4     459\n",
       " 5     129\n",
       " 6      53\n",
       " 9      26\n",
       " 8      13\n",
       " 7       9\n",
       " Name: V26, dtype: int64, 2    2778\n",
       " 3    2025\n",
       " 0    1694\n",
       " 1    1434\n",
       " 4    1104\n",
       " 5     588\n",
       " 6     176\n",
       " 8      11\n",
       " 7       9\n",
       " 9       3\n",
       " Name: V27, dtype: int64, 5    1953\n",
       " 4    1929\n",
       " 3    1845\n",
       " 2    1468\n",
       " 6     800\n",
       " 0     634\n",
       " 1     478\n",
       " 7     396\n",
       " 9     202\n",
       " 8     117\n",
       " Name: V28, dtype: int64, 0    4376\n",
       " 1    2658\n",
       " 2    1434\n",
       " 3     757\n",
       " 4     378\n",
       " 5     158\n",
       " 6      37\n",
       " 7      22\n",
       " 9       1\n",
       " 8       1\n",
       " Name: V29, dtype: int64, 0    1663\n",
       " 9    1255\n",
       " 2    1177\n",
       " 3     961\n",
       " 4     908\n",
       " 8     874\n",
       " 5     863\n",
       " 1     755\n",
       " 7     710\n",
       " 6     656\n",
       " Name: V30, dtype: int64, 9    1663\n",
       " 0    1255\n",
       " 7    1185\n",
       " 6     978\n",
       " 5     912\n",
       " 1     871\n",
       " 4     834\n",
       " 8     756\n",
       " 2     712\n",
       " 3     656\n",
       " Name: V31, dtype: int64, 6    2822\n",
       " 7    2338\n",
       " 5    2106\n",
       " 9     829\n",
       " 4     740\n",
       " 8     435\n",
       " 3     400\n",
       " 2     102\n",
       " 0      30\n",
       " 1      20\n",
       " Name: V32, dtype: int64, 0    3078\n",
       " 2    2999\n",
       " 1    2454\n",
       " 3     638\n",
       " 4     531\n",
       " 5     105\n",
       " 6      14\n",
       " 7       2\n",
       " 9       1\n",
       " Name: V33, dtype: int64, 2    2611\n",
       " 0    2475\n",
       " 3    1871\n",
       " 1    1327\n",
       " 4    1020\n",
       " 5     288\n",
       " 6     145\n",
       " 7      40\n",
       " 9      27\n",
       " 8      18\n",
       " Name: V34, dtype: int64, 7    2520\n",
       " 5    1644\n",
       " 6    1451\n",
       " 9    1436\n",
       " 8    1178\n",
       " 4     628\n",
       " 2     518\n",
       " 3     315\n",
       " 0     109\n",
       " 1      23\n",
       " Name: V35, dtype: int64, 2    2520\n",
       " 4    1668\n",
       " 0    1436\n",
       " 3    1415\n",
       " 1    1178\n",
       " 5     639\n",
       " 7     518\n",
       " 6     316\n",
       " 9     109\n",
       " 8      23\n",
       " Name: V36, dtype: int64, 0    2164\n",
       " 2    1893\n",
       " 3    1826\n",
       " 1    1060\n",
       " 4     981\n",
       " 5     971\n",
       " 6     512\n",
       " 7     261\n",
       " 9      78\n",
       " 8      76\n",
       " Name: V37, dtype: int64, 4    2207\n",
       " 3    1989\n",
       " 5    1585\n",
       " 2    1569\n",
       " 0     782\n",
       " 6     671\n",
       " 1     486\n",
       " 7     337\n",
       " 9     134\n",
       " 8      62\n",
       " Name: V38, dtype: int64, 3    2028\n",
       " 2    1962\n",
       " 4    1709\n",
       " 0    1505\n",
       " 1    1132\n",
       " 5     828\n",
       " 6     232\n",
       " 7     170\n",
       " 9     161\n",
       " 8      95\n",
       " Name: V39, dtype: int64, 0    5464\n",
       " 1    2251\n",
       " 2    1256\n",
       " 3     429\n",
       " 4     278\n",
       " 5     119\n",
       " 6      10\n",
       " 8       7\n",
       " 9       6\n",
       " 7       2\n",
       " Name: V40, dtype: int64, 0    8253\n",
       " 1    1269\n",
       " 2     188\n",
       " 3      66\n",
       " 4      38\n",
       " 5       4\n",
       " 6       2\n",
       " 7       1\n",
       " 9       1\n",
       " Name: V41, dtype: int64, 3    3232\n",
       " 4    3063\n",
       " 5    1268\n",
       " 2    1110\n",
       " 6     646\n",
       " 7     228\n",
       " 8     121\n",
       " 1      78\n",
       " 9      38\n",
       " 0      38\n",
       " Name: V42, dtype: int64, 3    2556\n",
       " 6    1587\n",
       " 4    1539\n",
       " 5     964\n",
       " 1     938\n",
       " 7     777\n",
       " 2     731\n",
       " 8     730\n",
       " Name: V43, dtype: int64, 0    5903\n",
       " 2    3562\n",
       " 1     341\n",
       " 3      16\n",
       " Name: V44, dtype: int64, 0    9688\n",
       " 2      53\n",
       " 3      36\n",
       " 4      26\n",
       " 1       9\n",
       " 6       5\n",
       " 5       5\n",
       " Name: V45, dtype: int64, 0    9613\n",
       " 4     108\n",
       " 3      92\n",
       " 2       7\n",
       " 1       2\n",
       " Name: V46, dtype: int64, 0    4825\n",
       " 6    3910\n",
       " 5    1013\n",
       " 7      64\n",
       " 8       5\n",
       " 4       4\n",
       " 9       1\n",
       " Name: V47, dtype: int64, 0    9730\n",
       " 6      71\n",
       " 5      17\n",
       " 7       4\n",
       " Name: V48, dtype: int64, 0    9460\n",
       " 4     207\n",
       " 6      79\n",
       " 5      70\n",
       " 3       4\n",
       " 7       2\n",
       " Name: V49, dtype: int64, 0    9808\n",
       " 6      10\n",
       " 7       2\n",
       " 4       1\n",
       " 9       1\n",
       " Name: V50, dtype: int64, 0    9719\n",
       " 2      62\n",
       " 1      30\n",
       " 3       9\n",
       " 5       1\n",
       " 4       1\n",
       " Name: V51, dtype: int64, 0    9576\n",
       " 3     142\n",
       " 4      45\n",
       " 5      42\n",
       " 6      16\n",
       " 7       1\n",
       " Name: V52, dtype: int64, 0    9790\n",
       " 4      11\n",
       " 3       8\n",
       " 2       7\n",
       " 6       5\n",
       " 1       1\n",
       " Name: V53, dtype: int64, 0    9150\n",
       " 3     481\n",
       " 4      99\n",
       " 2      63\n",
       " 5      27\n",
       " 6       2\n",
       " Name: V54, dtype: int64, 0    9308\n",
       " 4     172\n",
       " 3     141\n",
       " 6      65\n",
       " 5      65\n",
       " 2      51\n",
       " 1      14\n",
       " 7       4\n",
       " 9       1\n",
       " 8       1\n",
       " Name: V55, dtype: int64, 0    9777\n",
       " 2      24\n",
       " 3       7\n",
       " 1       6\n",
       " 4       4\n",
       " 6       2\n",
       " 5       2\n",
       " Name: V56, dtype: int64, 0    9744\n",
       " 2      50\n",
       " 3      28\n",
       " Name: V57, dtype: int64, 0    9784\n",
       " 6      32\n",
       " 7       4\n",
       " 5       1\n",
       " 4       1\n",
       " Name: V58, dtype: int64, 0    4464\n",
       " 4    2142\n",
       " 3    1541\n",
       " 2     901\n",
       " 5     263\n",
       " 6     252\n",
       " 1     245\n",
       " 7      12\n",
       " 8       2\n",
       " Name: V59, dtype: int64, 0    9813\n",
       " 2       5\n",
       " 1       3\n",
       " 3       1\n",
       " Name: V60, dtype: int64, 0    9777\n",
       " 4      18\n",
       " 2       8\n",
       " 3       6\n",
       " 1       6\n",
       " 5       4\n",
       " 6       3\n",
       " Name: V61, dtype: int64, 0    9573\n",
       " 1     249\n",
       " Name: V62, dtype: int64, 0    9740\n",
       " 1      34\n",
       " 2      30\n",
       " 4       8\n",
       " 3       7\n",
       " 6       2\n",
       " 5       1\n",
       " Name: V63, dtype: int64, 0    9687\n",
       " 4      68\n",
       " 3      34\n",
       " 2      31\n",
       " 5       2\n",
       " Name: V64, dtype: int64, 0    5903\n",
       " 1    3909\n",
       " 2      10\n",
       " Name: V65, dtype: int64, 0    9688\n",
       " 1     133\n",
       " 5       1\n",
       " Name: V66, dtype: int64, 0    9613\n",
       " 1     209\n",
       " Name: V67, dtype: int64, 0     4825\n",
       " 1     4580\n",
       " 2      384\n",
       " 3       21\n",
       " 4        8\n",
       " 7        1\n",
       " 6        1\n",
       " 5        1\n",
       " 12       1\n",
       " Name: V68, dtype: int64, 0    9730\n",
       " 1      83\n",
       " 2       4\n",
       " 3       3\n",
       " 5       1\n",
       " 4       1\n",
       " Name: V69, dtype: int64, 0    9460\n",
       " 1     337\n",
       " 2      22\n",
       " 3       2\n",
       " 8       1\n",
       " Name: V70, dtype: int64, 0    9808\n",
       " 1       9\n",
       " 2       3\n",
       " 4       1\n",
       " 3       1\n",
       " Name: V71, dtype: int64, 0    9719\n",
       " 1      96\n",
       " 2       5\n",
       " 3       2\n",
       " Name: V72, dtype: int64, 0    9576\n",
       " 1     184\n",
       " 2      46\n",
       " 3       7\n",
       " 4       6\n",
       " 6       2\n",
       " 5       1\n",
       " Name: V73, dtype: int64, 0    9790\n",
       " 1      21\n",
       " 2       7\n",
       " 3       2\n",
       " 6       1\n",
       " 4       1\n",
       " Name: V74, dtype: int64, 0    9150\n",
       " 1     647\n",
       " 2      24\n",
       " 3       1\n",
       " Name: V75, dtype: int64, 0    9308\n",
       " 1     305\n",
       " 2     170\n",
       " 3      23\n",
       " 4      13\n",
       " 5       2\n",
       " 8       1\n",
       " Name: V76, dtype: int64, 0    9777\n",
       " 1      45\n",
       " Name: V77, dtype: int64, 0    9744\n",
       " 1      78\n",
       " Name: V78, dtype: int64, 0    9784\n",
       " 1      34\n",
       " 2       4\n",
       " Name: V79, dtype: int64, 1    5116\n",
       " 0    4464\n",
       " 2     221\n",
       " 3      11\n",
       " 4       6\n",
       " 5       2\n",
       " 7       1\n",
       " 6       1\n",
       " Name: V80, dtype: int64, 0    9813\n",
       " 1       9\n",
       " Name: V81, dtype: int64, 0    9777\n",
       " 1      40\n",
       " 2       5\n",
       " Name: V82, dtype: int64, 0    9573\n",
       " 1     193\n",
       " 2      53\n",
       " 3       2\n",
       " 4       1\n",
       " Name: V83, dtype: int64, 0    9740\n",
       " 1      81\n",
       " 2       1\n",
       " Name: V84, dtype: int64, 0    9687\n",
       " 1     134\n",
       " 2       1\n",
       " Name: V85, dtype: int64, 0    5474\n",
       " 1     348\n",
       " Name: V86, dtype: int64, train    5822\n",
       " test     4000\n",
       " Name: data, dtype: int64]"
      ]
     },
     "execution_count": 17,
     "metadata": {},
     "output_type": "execute_result"
    }
   ],
   "source": [
    "[c[i].value_counts() for i in c.columns]"
   ]
  },
  {
   "cell_type": "code",
   "execution_count": null,
   "metadata": {},
   "outputs": [],
   "source": []
  },
  {
   "cell_type": "code",
   "execution_count": 18,
   "metadata": {},
   "outputs": [],
   "source": [
    "cols=list(c.columns)\n",
    "not_c = ['V4','V5','V6','V1','V44']"
   ]
  },
  {
   "cell_type": "code",
   "execution_count": 19,
   "metadata": {},
   "outputs": [],
   "source": [
    "def Dummies(data,freq_n):\n",
    "    for i in cols :\n",
    "        if i in not_c:\n",
    "            #print(i)\n",
    "            freq=c[i].value_counts()\n",
    "            Cate=freq.index[freq > freq_n] \n",
    "            #print(Cate)\n",
    "            for cat in Cate:\n",
    "                #print(cat)\n",
    "                name = str(i)+'_'+str(cat)\n",
    "               # print(name)\n",
    "                data[name]= (data[str(i)]==cat).astype(int)\n",
    "                #print(data[name])\n",
    "            del data[str(i)]\n",
    "    return data"
   ]
  },
  {
   "cell_type": "code",
   "execution_count": 20,
   "metadata": {},
   "outputs": [
    {
     "data": {
      "text/html": [
       "<div>\n",
       "<style scoped>\n",
       "    .dataframe tbody tr th:only-of-type {\n",
       "        vertical-align: middle;\n",
       "    }\n",
       "\n",
       "    .dataframe tbody tr th {\n",
       "        vertical-align: top;\n",
       "    }\n",
       "\n",
       "    .dataframe thead th {\n",
       "        text-align: right;\n",
       "    }\n",
       "</style>\n",
       "<table border=\"1\" class=\"dataframe\">\n",
       "  <thead>\n",
       "    <tr style=\"text-align: right;\">\n",
       "      <th></th>\n",
       "      <th>V2</th>\n",
       "      <th>V3</th>\n",
       "      <th>V7</th>\n",
       "      <th>V8</th>\n",
       "      <th>V9</th>\n",
       "      <th>V10</th>\n",
       "      <th>V11</th>\n",
       "      <th>V12</th>\n",
       "      <th>V13</th>\n",
       "      <th>V14</th>\n",
       "      <th>...</th>\n",
       "      <th>V5_2</th>\n",
       "      <th>V5_10</th>\n",
       "      <th>V5_6</th>\n",
       "      <th>V6_0</th>\n",
       "      <th>V6_1</th>\n",
       "      <th>V6_2</th>\n",
       "      <th>V6_3</th>\n",
       "      <th>V44_0</th>\n",
       "      <th>V44_2</th>\n",
       "      <th>V44_1</th>\n",
       "    </tr>\n",
       "  </thead>\n",
       "  <tbody>\n",
       "    <tr>\n",
       "      <th>0</th>\n",
       "      <td>1</td>\n",
       "      <td>3</td>\n",
       "      <td>5</td>\n",
       "      <td>1</td>\n",
       "      <td>3</td>\n",
       "      <td>7</td>\n",
       "      <td>0</td>\n",
       "      <td>2</td>\n",
       "      <td>1</td>\n",
       "      <td>2</td>\n",
       "      <td>...</td>\n",
       "      <td>0</td>\n",
       "      <td>0</td>\n",
       "      <td>0</td>\n",
       "      <td>1</td>\n",
       "      <td>0</td>\n",
       "      <td>0</td>\n",
       "      <td>0</td>\n",
       "      <td>1</td>\n",
       "      <td>0</td>\n",
       "      <td>0</td>\n",
       "    </tr>\n",
       "    <tr>\n",
       "      <th>1</th>\n",
       "      <td>1</td>\n",
       "      <td>2</td>\n",
       "      <td>4</td>\n",
       "      <td>1</td>\n",
       "      <td>4</td>\n",
       "      <td>6</td>\n",
       "      <td>2</td>\n",
       "      <td>2</td>\n",
       "      <td>0</td>\n",
       "      <td>4</td>\n",
       "      <td>...</td>\n",
       "      <td>0</td>\n",
       "      <td>0</td>\n",
       "      <td>0</td>\n",
       "      <td>0</td>\n",
       "      <td>1</td>\n",
       "      <td>0</td>\n",
       "      <td>0</td>\n",
       "      <td>0</td>\n",
       "      <td>1</td>\n",
       "      <td>0</td>\n",
       "    </tr>\n",
       "    <tr>\n",
       "      <th>2</th>\n",
       "      <td>1</td>\n",
       "      <td>2</td>\n",
       "      <td>4</td>\n",
       "      <td>2</td>\n",
       "      <td>4</td>\n",
       "      <td>3</td>\n",
       "      <td>2</td>\n",
       "      <td>4</td>\n",
       "      <td>4</td>\n",
       "      <td>4</td>\n",
       "      <td>...</td>\n",
       "      <td>0</td>\n",
       "      <td>0</td>\n",
       "      <td>0</td>\n",
       "      <td>1</td>\n",
       "      <td>0</td>\n",
       "      <td>0</td>\n",
       "      <td>0</td>\n",
       "      <td>0</td>\n",
       "      <td>1</td>\n",
       "      <td>0</td>\n",
       "    </tr>\n",
       "    <tr>\n",
       "      <th>3</th>\n",
       "      <td>1</td>\n",
       "      <td>3</td>\n",
       "      <td>3</td>\n",
       "      <td>2</td>\n",
       "      <td>4</td>\n",
       "      <td>5</td>\n",
       "      <td>2</td>\n",
       "      <td>2</td>\n",
       "      <td>2</td>\n",
       "      <td>3</td>\n",
       "      <td>...</td>\n",
       "      <td>0</td>\n",
       "      <td>0</td>\n",
       "      <td>0</td>\n",
       "      <td>0</td>\n",
       "      <td>0</td>\n",
       "      <td>1</td>\n",
       "      <td>0</td>\n",
       "      <td>1</td>\n",
       "      <td>0</td>\n",
       "      <td>0</td>\n",
       "    </tr>\n",
       "    <tr>\n",
       "      <th>4</th>\n",
       "      <td>1</td>\n",
       "      <td>4</td>\n",
       "      <td>4</td>\n",
       "      <td>1</td>\n",
       "      <td>4</td>\n",
       "      <td>7</td>\n",
       "      <td>1</td>\n",
       "      <td>2</td>\n",
       "      <td>2</td>\n",
       "      <td>4</td>\n",
       "      <td>...</td>\n",
       "      <td>0</td>\n",
       "      <td>1</td>\n",
       "      <td>0</td>\n",
       "      <td>0</td>\n",
       "      <td>1</td>\n",
       "      <td>0</td>\n",
       "      <td>0</td>\n",
       "      <td>1</td>\n",
       "      <td>0</td>\n",
       "      <td>0</td>\n",
       "    </tr>\n",
       "    <tr>\n",
       "      <th>...</th>\n",
       "      <td>...</td>\n",
       "      <td>...</td>\n",
       "      <td>...</td>\n",
       "      <td>...</td>\n",
       "      <td>...</td>\n",
       "      <td>...</td>\n",
       "      <td>...</td>\n",
       "      <td>...</td>\n",
       "      <td>...</td>\n",
       "      <td>...</td>\n",
       "      <td>...</td>\n",
       "      <td>...</td>\n",
       "      <td>...</td>\n",
       "      <td>...</td>\n",
       "      <td>...</td>\n",
       "      <td>...</td>\n",
       "      <td>...</td>\n",
       "      <td>...</td>\n",
       "      <td>...</td>\n",
       "      <td>...</td>\n",
       "      <td>...</td>\n",
       "    </tr>\n",
       "    <tr>\n",
       "      <th>3995</th>\n",
       "      <td>1</td>\n",
       "      <td>2</td>\n",
       "      <td>7</td>\n",
       "      <td>2</td>\n",
       "      <td>0</td>\n",
       "      <td>5</td>\n",
       "      <td>2</td>\n",
       "      <td>2</td>\n",
       "      <td>2</td>\n",
       "      <td>6</td>\n",
       "      <td>...</td>\n",
       "      <td>0</td>\n",
       "      <td>0</td>\n",
       "      <td>0</td>\n",
       "      <td>1</td>\n",
       "      <td>0</td>\n",
       "      <td>0</td>\n",
       "      <td>0</td>\n",
       "      <td>0</td>\n",
       "      <td>1</td>\n",
       "      <td>0</td>\n",
       "    </tr>\n",
       "    <tr>\n",
       "      <th>3996</th>\n",
       "      <td>1</td>\n",
       "      <td>2</td>\n",
       "      <td>5</td>\n",
       "      <td>1</td>\n",
       "      <td>3</td>\n",
       "      <td>4</td>\n",
       "      <td>2</td>\n",
       "      <td>4</td>\n",
       "      <td>4</td>\n",
       "      <td>4</td>\n",
       "      <td>...</td>\n",
       "      <td>0</td>\n",
       "      <td>0</td>\n",
       "      <td>0</td>\n",
       "      <td>0</td>\n",
       "      <td>1</td>\n",
       "      <td>0</td>\n",
       "      <td>0</td>\n",
       "      <td>1</td>\n",
       "      <td>0</td>\n",
       "      <td>0</td>\n",
       "    </tr>\n",
       "    <tr>\n",
       "      <th>3997</th>\n",
       "      <td>1</td>\n",
       "      <td>2</td>\n",
       "      <td>5</td>\n",
       "      <td>1</td>\n",
       "      <td>3</td>\n",
       "      <td>7</td>\n",
       "      <td>0</td>\n",
       "      <td>2</td>\n",
       "      <td>2</td>\n",
       "      <td>5</td>\n",
       "      <td>...</td>\n",
       "      <td>0</td>\n",
       "      <td>0</td>\n",
       "      <td>0</td>\n",
       "      <td>0</td>\n",
       "      <td>1</td>\n",
       "      <td>0</td>\n",
       "      <td>0</td>\n",
       "      <td>1</td>\n",
       "      <td>0</td>\n",
       "      <td>0</td>\n",
       "    </tr>\n",
       "    <tr>\n",
       "      <th>3998</th>\n",
       "      <td>1</td>\n",
       "      <td>3</td>\n",
       "      <td>4</td>\n",
       "      <td>2</td>\n",
       "      <td>3</td>\n",
       "      <td>7</td>\n",
       "      <td>1</td>\n",
       "      <td>2</td>\n",
       "      <td>2</td>\n",
       "      <td>3</td>\n",
       "      <td>...</td>\n",
       "      <td>0</td>\n",
       "      <td>0</td>\n",
       "      <td>0</td>\n",
       "      <td>0</td>\n",
       "      <td>1</td>\n",
       "      <td>0</td>\n",
       "      <td>0</td>\n",
       "      <td>1</td>\n",
       "      <td>0</td>\n",
       "      <td>0</td>\n",
       "    </tr>\n",
       "    <tr>\n",
       "      <th>3999</th>\n",
       "      <td>1</td>\n",
       "      <td>2</td>\n",
       "      <td>3</td>\n",
       "      <td>0</td>\n",
       "      <td>3</td>\n",
       "      <td>5</td>\n",
       "      <td>2</td>\n",
       "      <td>2</td>\n",
       "      <td>0</td>\n",
       "      <td>6</td>\n",
       "      <td>...</td>\n",
       "      <td>1</td>\n",
       "      <td>0</td>\n",
       "      <td>0</td>\n",
       "      <td>0</td>\n",
       "      <td>0</td>\n",
       "      <td>0</td>\n",
       "      <td>0</td>\n",
       "      <td>0</td>\n",
       "      <td>1</td>\n",
       "      <td>0</td>\n",
       "    </tr>\n",
       "  </tbody>\n",
       "</table>\n",
       "<p>9822 rows × 122 columns</p>\n",
       "</div>"
      ],
      "text/plain": [
       "      V2  V3  V7  V8  V9  V10  V11  V12  V13  V14  ...  V5_2  V5_10  V5_6  \\\n",
       "0      1   3   5   1   3    7    0    2    1    2  ...     0      0     0   \n",
       "1      1   2   4   1   4    6    2    2    0    4  ...     0      0     0   \n",
       "2      1   2   4   2   4    3    2    4    4    4  ...     0      0     0   \n",
       "3      1   3   3   2   4    5    2    2    2    3  ...     0      0     0   \n",
       "4      1   4   4   1   4    7    1    2    2    4  ...     0      1     0   \n",
       "...   ..  ..  ..  ..  ..  ...  ...  ...  ...  ...  ...   ...    ...   ...   \n",
       "3995   1   2   7   2   0    5    2    2    2    6  ...     0      0     0   \n",
       "3996   1   2   5   1   3    4    2    4    4    4  ...     0      0     0   \n",
       "3997   1   2   5   1   3    7    0    2    2    5  ...     0      0     0   \n",
       "3998   1   3   4   2   3    7    1    2    2    3  ...     0      0     0   \n",
       "3999   1   2   3   0   3    5    2    2    0    6  ...     1      0     0   \n",
       "\n",
       "      V6_0  V6_1  V6_2  V6_3  V44_0  V44_2  V44_1  \n",
       "0        1     0     0     0      1      0      0  \n",
       "1        0     1     0     0      0      1      0  \n",
       "2        1     0     0     0      0      1      0  \n",
       "3        0     0     1     0      1      0      0  \n",
       "4        0     1     0     0      1      0      0  \n",
       "...    ...   ...   ...   ...    ...    ...    ...  \n",
       "3995     1     0     0     0      0      1      0  \n",
       "3996     0     1     0     0      1      0      0  \n",
       "3997     0     1     0     0      1      0      0  \n",
       "3998     0     1     0     0      1      0      0  \n",
       "3999     0     0     0     0      0      1      0  \n",
       "\n",
       "[9822 rows x 122 columns]"
      ]
     },
     "execution_count": 20,
     "metadata": {},
     "output_type": "execute_result"
    }
   ],
   "source": [
    "Dummies(c,200)\n",
    "c"
   ]
  },
  {
   "cell_type": "code",
   "execution_count": 21,
   "metadata": {},
   "outputs": [
    {
     "data": {
      "text/plain": [
       "V2       0\n",
       "V3       0\n",
       "V7       0\n",
       "V8       0\n",
       "V9       0\n",
       "        ..\n",
       "V6_2     0\n",
       "V6_3     0\n",
       "V44_0    0\n",
       "V44_2    0\n",
       "V44_1    0\n",
       "Length: 122, dtype: int64"
      ]
     },
     "execution_count": 21,
     "metadata": {},
     "output_type": "execute_result"
    }
   ],
   "source": [
    "c.isna().sum()"
   ]
  },
  {
   "cell_type": "code",
   "execution_count": 22,
   "metadata": {},
   "outputs": [],
   "source": [
    "train_data=c[c[\"data\"]=='train']\n",
    "test_data=c[c[\"data\"]=='test']"
   ]
  },
  {
   "cell_type": "code",
   "execution_count": 23,
   "metadata": {},
   "outputs": [],
   "source": [
    "Y_train=train_data['V86']"
   ]
  },
  {
   "cell_type": "code",
   "execution_count": 24,
   "metadata": {},
   "outputs": [
    {
     "data": {
      "text/plain": [
       "0       0\n",
       "1       0\n",
       "2       0\n",
       "3       0\n",
       "4       0\n",
       "       ..\n",
       "5817    0\n",
       "5818    0\n",
       "5819    1\n",
       "5820    0\n",
       "5821    0\n",
       "Name: V86, Length: 5822, dtype: object"
      ]
     },
     "execution_count": 24,
     "metadata": {},
     "output_type": "execute_result"
    }
   ],
   "source": [
    "Y_train"
   ]
  },
  {
   "cell_type": "code",
   "execution_count": 25,
   "metadata": {},
   "outputs": [],
   "source": [
    "X_train=train_data.drop(['data','V86'],1)\n",
    "X_test=test_data.drop(['data','V86'],1)"
   ]
  },
  {
   "cell_type": "code",
   "execution_count": 26,
   "metadata": {},
   "outputs": [
    {
     "data": {
      "text/plain": [
       "(5822, 120)"
      ]
     },
     "execution_count": 26,
     "metadata": {},
     "output_type": "execute_result"
    }
   ],
   "source": [
    "X_train.shape"
   ]
  },
  {
   "cell_type": "code",
   "execution_count": 27,
   "metadata": {},
   "outputs": [
    {
     "data": {
      "text/plain": [
       "(4000, 120)"
      ]
     },
     "execution_count": 27,
     "metadata": {},
     "output_type": "execute_result"
    }
   ],
   "source": [
    "X_test.shape"
   ]
  },
  {
   "cell_type": "code",
   "execution_count": 28,
   "metadata": {},
   "outputs": [
    {
     "data": {
      "text/plain": [
       "0       0\n",
       "1       0\n",
       "2       0\n",
       "3       0\n",
       "4       0\n",
       "       ..\n",
       "5817    0\n",
       "5818    0\n",
       "5819    1\n",
       "5820    0\n",
       "5821    0\n",
       "Name: V86, Length: 5822, dtype: object"
      ]
     },
     "execution_count": 28,
     "metadata": {},
     "output_type": "execute_result"
    }
   ],
   "source": [
    "Y_train"
   ]
  },
  {
   "cell_type": "code",
   "execution_count": 29,
   "metadata": {},
   "outputs": [],
   "source": [
    "#This is for for balanced 1's &0's in test and train data to avoid over and underfitting\n",
    "#stratifiedShufflesplit is used for this ."
   ]
  },
  {
   "cell_type": "code",
   "execution_count": 30,
   "metadata": {},
   "outputs": [],
   "source": [
    "SSS=StratifiedShuffleSplit(n_splits=1,random_state=0,test_size=0.2)"
   ]
  },
  {
   "cell_type": "code",
   "execution_count": 31,
   "metadata": {},
   "outputs": [
    {
     "data": {
      "text/plain": [
       "1"
      ]
     },
     "execution_count": 31,
     "metadata": {},
     "output_type": "execute_result"
    }
   ],
   "source": [
    "SSS.get_n_splits(X_train)"
   ]
  },
  {
   "cell_type": "code",
   "execution_count": 32,
   "metadata": {},
   "outputs": [
    {
     "name": "stdout",
     "output_type": "stream",
     "text": [
      "StratifiedShuffleSplit(n_splits=1, random_state=0, test_size=0.2,\n",
      "            train_size=None)\n"
     ]
    }
   ],
   "source": [
    "print(SSS)"
   ]
  },
  {
   "cell_type": "code",
   "execution_count": 33,
   "metadata": {},
   "outputs": [
    {
     "data": {
      "text/plain": [
       "dtype('O')"
      ]
     },
     "execution_count": 33,
     "metadata": {},
     "output_type": "execute_result"
    }
   ],
   "source": [
    "Y_train.dtype"
   ]
  },
  {
   "cell_type": "code",
   "execution_count": 34,
   "metadata": {},
   "outputs": [],
   "source": [
    "Y_train=Y_train.astype(int)"
   ]
  },
  {
   "cell_type": "code",
   "execution_count": 35,
   "metadata": {},
   "outputs": [
    {
     "name": "stdout",
     "output_type": "stream",
     "text": [
      "[1059 3195 5442 ...  964 1101 1889]\n",
      "[3735 5576 3674 ... 5174   86  500]\n"
     ]
    }
   ],
   "source": [
    "for train_index,test_index in SSS.split(X_train,Y_train):\n",
    "    print(train_index)\n",
    "    print(test_index)"
   ]
  },
  {
   "cell_type": "code",
   "execution_count": 36,
   "metadata": {},
   "outputs": [],
   "source": [
    "x_train=X_train.loc[train_index]"
   ]
  },
  {
   "cell_type": "code",
   "execution_count": 37,
   "metadata": {},
   "outputs": [
    {
     "data": {
      "text/plain": [
       "(4657, 120)"
      ]
     },
     "execution_count": 37,
     "metadata": {},
     "output_type": "execute_result"
    }
   ],
   "source": [
    "x_train.shape"
   ]
  },
  {
   "cell_type": "code",
   "execution_count": 38,
   "metadata": {},
   "outputs": [],
   "source": [
    "x_valid=X_train.loc[test_index]"
   ]
  },
  {
   "cell_type": "code",
   "execution_count": 39,
   "metadata": {},
   "outputs": [
    {
     "data": {
      "text/plain": [
       "(1165, 120)"
      ]
     },
     "execution_count": 39,
     "metadata": {},
     "output_type": "execute_result"
    }
   ],
   "source": [
    "x_valid.shape"
   ]
  },
  {
   "cell_type": "code",
   "execution_count": 40,
   "metadata": {},
   "outputs": [],
   "source": [
    "y_train=Y_train.loc[train_index]"
   ]
  },
  {
   "cell_type": "code",
   "execution_count": 41,
   "metadata": {},
   "outputs": [
    {
     "data": {
      "text/plain": [
       "(4657,)"
      ]
     },
     "execution_count": 41,
     "metadata": {},
     "output_type": "execute_result"
    }
   ],
   "source": [
    "y_train.shape"
   ]
  },
  {
   "cell_type": "code",
   "execution_count": 42,
   "metadata": {},
   "outputs": [
    {
     "data": {
      "text/plain": [
       "0    4379\n",
       "1     278\n",
       "Name: V86, dtype: int64"
      ]
     },
     "execution_count": 42,
     "metadata": {},
     "output_type": "execute_result"
    }
   ],
   "source": [
    "y_train.value_counts()"
   ]
  },
  {
   "cell_type": "code",
   "execution_count": 43,
   "metadata": {},
   "outputs": [],
   "source": [
    "y_valid=Y_train.loc[test_index]"
   ]
  },
  {
   "cell_type": "code",
   "execution_count": 44,
   "metadata": {},
   "outputs": [
    {
     "data": {
      "text/plain": [
       "(1165,)"
      ]
     },
     "execution_count": 44,
     "metadata": {},
     "output_type": "execute_result"
    }
   ],
   "source": [
    "y_valid.shape"
   ]
  },
  {
   "cell_type": "code",
   "execution_count": 45,
   "metadata": {},
   "outputs": [
    {
     "data": {
      "text/plain": [
       "0    1095\n",
       "1      70\n",
       "Name: V86, dtype: int64"
      ]
     },
     "execution_count": 45,
     "metadata": {},
     "output_type": "execute_result"
    }
   ],
   "source": [
    "y_valid.value_counts()"
   ]
  },
  {
   "cell_type": "code",
   "execution_count": 46,
   "metadata": {},
   "outputs": [
    {
     "data": {
      "text/plain": [
       "4657"
      ]
     },
     "execution_count": 46,
     "metadata": {},
     "output_type": "execute_result"
    }
   ],
   "source": [
    "4379+278"
   ]
  },
  {
   "cell_type": "code",
   "execution_count": 47,
   "metadata": {},
   "outputs": [
    {
     "data": {
      "text/plain": [
       "0.05969508267124758"
      ]
     },
     "execution_count": 47,
     "metadata": {},
     "output_type": "execute_result"
    }
   ],
   "source": [
    "278/4657"
   ]
  },
  {
   "cell_type": "code",
   "execution_count": 48,
   "metadata": {},
   "outputs": [
    {
     "data": {
      "text/plain": [
       "0.060085836909871244"
      ]
     },
     "execution_count": 48,
     "metadata": {},
     "output_type": "execute_result"
    }
   ],
   "source": [
    "70/1165"
   ]
  },
  {
   "cell_type": "code",
   "execution_count": 49,
   "metadata": {},
   "outputs": [],
   "source": [
    "logr=LogisticRegression(class_weight=\"balanced\",random_state= 3)"
   ]
  },
  {
   "cell_type": "code",
   "execution_count": 50,
   "metadata": {},
   "outputs": [
    {
     "name": "stderr",
     "output_type": "stream",
     "text": [
      "D:\\Python\\lib\\site-packages\\sklearn\\linear_model\\_logistic.py:940: ConvergenceWarning: lbfgs failed to converge (status=1):\n",
      "STOP: TOTAL NO. of ITERATIONS REACHED LIMIT.\n",
      "\n",
      "Increase the number of iterations (max_iter) or scale the data as shown in:\n",
      "    https://scikit-learn.org/stable/modules/preprocessing.html\n",
      "Please also refer to the documentation for alternative solver options:\n",
      "    https://scikit-learn.org/stable/modules/linear_model.html#logistic-regression\n",
      "  extra_warning_msg=_LOGISTIC_SOLVER_CONVERGENCE_MSG)\n"
     ]
    },
    {
     "data": {
      "text/plain": [
       "LogisticRegression(C=1.0, class_weight='balanced', dual=False,\n",
       "                   fit_intercept=True, intercept_scaling=1, l1_ratio=None,\n",
       "                   max_iter=100, multi_class='auto', n_jobs=None, penalty='l2',\n",
       "                   random_state=3, solver='lbfgs', tol=0.0001, verbose=0,\n",
       "                   warm_start=False)"
      ]
     },
     "execution_count": 50,
     "metadata": {},
     "output_type": "execute_result"
    }
   ],
   "source": [
    "logr.fit(x_train,y_train)"
   ]
  },
  {
   "cell_type": "code",
   "execution_count": 51,
   "metadata": {},
   "outputs": [],
   "source": [
    "y_pred=logr.predict(x_valid)"
   ]
  },
  {
   "cell_type": "code",
   "execution_count": 52,
   "metadata": {},
   "outputs": [
    {
     "data": {
      "text/plain": [
       "0.6169602087410306"
      ]
     },
     "execution_count": 52,
     "metadata": {},
     "output_type": "execute_result"
    }
   ],
   "source": [
    "roc_auc_score(y_valid,y_pred)"
   ]
  },
  {
   "cell_type": "code",
   "execution_count": 53,
   "metadata": {},
   "outputs": [],
   "source": [
    "#who"
   ]
  },
  {
   "cell_type": "code",
   "execution_count": 54,
   "metadata": {},
   "outputs": [],
   "source": [
    "prob_score=pd.Series(list(zip(*logr.predict_proba(X_train)))[1])"
   ]
  },
  {
   "cell_type": "code",
   "execution_count": 55,
   "metadata": {},
   "outputs": [
    {
     "data": {
      "text/plain": [
       "(5822,)"
      ]
     },
     "execution_count": 55,
     "metadata": {},
     "output_type": "execute_result"
    }
   ],
   "source": [
    "prob_score.shape"
   ]
  },
  {
   "cell_type": "code",
   "execution_count": 56,
   "metadata": {},
   "outputs": [],
   "source": [
    "#  * in above is used for bind all 1st columns in a list . list(zip(*logr.predict_proba(x_train)))[1]"
   ]
  },
  {
   "cell_type": "code",
   "execution_count": 57,
   "metadata": {},
   "outputs": [],
   "source": [
    "cutoffs=np.linspace(0.010,0.99,100)\n",
    "def Fbeta_perf(beta,cutoffs,y_train,prob_score):\n",
    "    FB_cut=[]\n",
    "    for cutoff in cutoffs:\n",
    "        predicted=pd.Series([0]*len(y_train))\n",
    "        predicted[prob_score>cutoff]=1\n",
    "        df=pd.DataFrame(list(zip(y_train,predicted)),columns=[\"real\",\"predicted\"])\n",
    "\n",
    "        TP=len(df[(df[\"real\"]==1) &(df[\"predicted\"]==1) ])\n",
    "        FP=len(df[(df[\"real\"]==0) &(df[\"predicted\"]==1) ])\n",
    "        FN=len(df[(df[\"real\"]==1) &(df[\"predicted\"]==0) ])\n",
    "        P=TP+FN\n",
    "        \n",
    "        \n",
    "        Precision=TP/(TP+FP)\n",
    "        Recall=TP/P\n",
    "        FB=(1+beta**2)*Precision*Recall/((beta**2)*Precision+Recall)\n",
    "        FB_cut.append(FB)\n",
    "\n",
    "    cutoff_data=pd.DataFrame(list(zip(cutoffs,FB_cut)),columns=[\"cutoff\",\"FB\"])\n",
    "\n",
    "    FB_cutoff=cutoff_data[cutoff_data[\"FB\"]==cutoff_data[\"FB\"].max()][\"cutoff\"]\n",
    "\n",
    "    prob_score_test=pd.Series(list(zip(*logr.predict_proba(x_valid)))[1])\n",
    "\n",
    "    predicted_test=pd.Series([0]*len(y_valid))\n",
    "    predicted_test[prob_score_test>float(FB_cutoff)]=1\n",
    "\n",
    "    df_test=pd.DataFrame(list(zip(y_valid,predicted_test)),columns=[\"real\",\"predicted\"])\n",
    "\n",
    "    k=pd.crosstab(df_test['real'],df_test[\"predicted\"])\n",
    "#     print('confusion matrix :\\n \\n ',k)\n",
    "    TN=k.iloc[0,0]\n",
    "    TP=k.iloc[1,1]\n",
    "    FP=k.iloc[0,1]\n",
    "    FN=k.iloc[1,0]\n",
    "    P=TP+FN\n",
    "    N=TN+FP\n",
    "    Precision=TP/(TP+FP)\n",
    "    Recall=TP/P\n",
    "    FB=(1+beta**2)*Precision*Recall/((beta**2)*Precision+Recall)\n",
    "            \n",
    "    print('For beta :',beta)\n",
    "    print('Accuracy is :',(TP+TN)/(P+N))\n",
    "    print('Sensitivity is :',(TP/P))\n",
    "    print('Specificity is :',(TN/N))\n",
    "    print(\"precision:\",TP/(TP+FP))\n",
    "    print('fb score:',FB)\n",
    "    print('\\n \\n \\n')\n",
    "    "
   ]
  },
  {
   "cell_type": "code",
   "execution_count": null,
   "metadata": {},
   "outputs": [],
   "source": []
  },
  {
   "cell_type": "code",
   "execution_count": 58,
   "metadata": {},
   "outputs": [],
   "source": [
    "s=pd.crosstab(y_valid,y_pred)"
   ]
  },
  {
   "cell_type": "code",
   "execution_count": 59,
   "metadata": {},
   "outputs": [
    {
     "data": {
      "text/html": [
       "<div>\n",
       "<style scoped>\n",
       "    .dataframe tbody tr th:only-of-type {\n",
       "        vertical-align: middle;\n",
       "    }\n",
       "\n",
       "    .dataframe tbody tr th {\n",
       "        vertical-align: top;\n",
       "    }\n",
       "\n",
       "    .dataframe thead th {\n",
       "        text-align: right;\n",
       "    }\n",
       "</style>\n",
       "<table border=\"1\" class=\"dataframe\">\n",
       "  <thead>\n",
       "    <tr style=\"text-align: right;\">\n",
       "      <th>col_0</th>\n",
       "      <th>0</th>\n",
       "      <th>1</th>\n",
       "    </tr>\n",
       "    <tr>\n",
       "      <th>V86</th>\n",
       "      <th></th>\n",
       "      <th></th>\n",
       "    </tr>\n",
       "  </thead>\n",
       "  <tbody>\n",
       "    <tr>\n",
       "      <th>0</th>\n",
       "      <td>788</td>\n",
       "      <td>307</td>\n",
       "    </tr>\n",
       "    <tr>\n",
       "      <th>1</th>\n",
       "      <td>34</td>\n",
       "      <td>36</td>\n",
       "    </tr>\n",
       "  </tbody>\n",
       "</table>\n",
       "</div>"
      ],
      "text/plain": [
       "col_0    0    1\n",
       "V86            \n",
       "0      788  307\n",
       "1       34   36"
      ]
     },
     "execution_count": 59,
     "metadata": {},
     "output_type": "execute_result"
    }
   ],
   "source": [
    "s"
   ]
  },
  {
   "cell_type": "code",
   "execution_count": 60,
   "metadata": {},
   "outputs": [
    {
     "data": {
      "text/plain": [
       "788"
      ]
     },
     "execution_count": 60,
     "metadata": {},
     "output_type": "execute_result"
    }
   ],
   "source": [
    "s.iloc[0,0]"
   ]
  },
  {
   "cell_type": "code",
   "execution_count": 61,
   "metadata": {},
   "outputs": [
    {
     "data": {
      "text/plain": [
       "36"
      ]
     },
     "execution_count": 61,
     "metadata": {},
     "output_type": "execute_result"
    }
   ],
   "source": [
    "s.iloc[1,1]"
   ]
  },
  {
   "cell_type": "code",
   "execution_count": 62,
   "metadata": {},
   "outputs": [
    {
     "name": "stdout",
     "output_type": "stream",
     "text": [
      "For beta : 0.5\n",
      "Accuracy is : 0.9210300429184549\n",
      "Sensitivity is : 0.1\n",
      "Specificity is : 0.9735159817351599\n",
      "precision: 0.19444444444444445\n",
      "fb score: 0.16355140186915887\n",
      "\n",
      " \n",
      " \n",
      "\n",
      "For beta : 1\n",
      "Accuracy is : 0.8360515021459227\n",
      "Sensitivity is : 0.3142857142857143\n",
      "Specificity is : 0.869406392694064\n",
      "precision: 0.13333333333333333\n",
      "fb score: 0.1872340425531915\n",
      "\n",
      " \n",
      " \n",
      "\n",
      "For beta : 2\n",
      "Accuracy is : 0.6969957081545064\n",
      "Sensitivity is : 0.5571428571428572\n",
      "Specificity is : 0.7059360730593607\n",
      "precision: 0.10803324099722991\n",
      "fb score: 0.3042121684867395\n",
      "\n",
      " \n",
      " \n",
      "\n"
     ]
    }
   ],
   "source": [
    "Fbeta_perf(0.5,cutoffs,Y_train,prob_score)\n",
    "Fbeta_perf(1,cutoffs,Y_train,prob_score)\n",
    "Fbeta_perf(2,cutoffs,Y_train,prob_score)"
   ]
  },
  {
   "cell_type": "code",
   "execution_count": 63,
   "metadata": {},
   "outputs": [],
   "source": [
    "RESULT=logr.predict(X_test)"
   ]
  },
  {
   "cell_type": "code",
   "execution_count": 64,
   "metadata": {},
   "outputs": [
    {
     "data": {
      "text/plain": [
       "(4000,)"
      ]
     },
     "execution_count": 64,
     "metadata": {},
     "output_type": "execute_result"
    }
   ],
   "source": [
    "RESULT.shape"
   ]
  },
  {
   "cell_type": "code",
   "execution_count": 65,
   "metadata": {},
   "outputs": [
    {
     "data": {
      "text/plain": [
       "(array([0, 1]), array([2753, 1247], dtype=int64))"
      ]
     },
     "execution_count": 65,
     "metadata": {},
     "output_type": "execute_result"
    }
   ],
   "source": [
    "np.unique(RESULT,return_counts=True)"
   ]
  },
  {
   "cell_type": "code",
   "execution_count": 66,
   "metadata": {},
   "outputs": [
    {
     "data": {
      "text/plain": [
       "0.305"
      ]
     },
     "execution_count": 66,
     "metadata": {},
     "output_type": "execute_result"
    }
   ],
   "source": [
    "1220/(2780+1220)"
   ]
  },
  {
   "cell_type": "code",
   "execution_count": 67,
   "metadata": {},
   "outputs": [],
   "source": [
    "#result=pd.DataFrame(RESULT).to_csv('D:\\Python new\\PYTHON\\PROJECT\\PROJECT 2\\RAHUL_SHEDGE_P2_part2.csv',index=False)"
   ]
  },
  {
   "cell_type": "code",
   "execution_count": 68,
   "metadata": {},
   "outputs": [],
   "source": [
    "#result"
   ]
  },
  {
   "cell_type": "code",
   "execution_count": null,
   "metadata": {},
   "outputs": [],
   "source": []
  }
 ],
 "metadata": {
  "kernelspec": {
   "display_name": "Python 3",
   "language": "python",
   "name": "python3"
  },
  "language_info": {
   "codemirror_mode": {
    "name": "ipython",
    "version": 3
   },
   "file_extension": ".py",
   "mimetype": "text/x-python",
   "name": "python",
   "nbconvert_exporter": "python",
   "pygments_lexer": "ipython3",
   "version": "3.7.4"
  }
 },
 "nbformat": 4,
 "nbformat_minor": 2
}
